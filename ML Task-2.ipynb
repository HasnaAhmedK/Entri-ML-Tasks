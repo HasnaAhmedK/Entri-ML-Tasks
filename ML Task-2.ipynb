{
 "cells": [
  {
   "cell_type": "code",
   "execution_count": 8,
   "id": "27a66a11",
   "metadata": {},
   "outputs": [],
   "source": [
    "import scipy.stats as stats\n",
    "import numpy as np"
   ]
  },
  {
   "cell_type": "markdown",
   "id": "2ec496b0",
   "metadata": {},
   "source": [
    "Q1.Suppose a child psychologist claims that the average time working mothers spend talking to their children is at least 11 minutes per day. You conduct a random sample of 1000 working mothers and find they spend an average of 11.5 minutes per day talking with their children. Assume prior research suggests the population standard deviation is 2.3 minutes.Conduct a test with a level of significance of alpha = 0.05. "
   ]
  },
  {
   "cell_type": "code",
   "execution_count": 4,
   "id": "1f48ef52",
   "metadata": {},
   "outputs": [],
   "source": [
    "population_mean = 11\n",
    "population_sd = 2.3\n",
    "sample_size = 1000\n",
    "sample_mean = 11.5\n",
    "alpha = 0.05"
   ]
  },
  {
   "cell_type": "code",
   "execution_count": 10,
   "id": "3f553239",
   "metadata": {},
   "outputs": [
    {
     "name": "stdout",
     "output_type": "stream",
     "text": [
      "z_score:  6.874516652539955\n"
     ]
    }
   ],
   "source": [
    "z = (sample_mean - population_mean) / (population_sd / np.sqrt(sample_size))\n",
    "print(\"z_score: \", z)"
   ]
  },
  {
   "cell_type": "code",
   "execution_count": 12,
   "id": "b386ca60",
   "metadata": {},
   "outputs": [
    {
     "name": "stdout",
     "output_type": "stream",
     "text": [
      "critical_value:  1.6448536269514722\n"
     ]
    }
   ],
   "source": [
    "critical_value = stats.norm.ppf(1 - alpha)\n",
    "print(\"critical_value: \", critical_value)"
   ]
  },
  {
   "cell_type": "code",
   "execution_count": 17,
   "id": "ea4086be",
   "metadata": {},
   "outputs": [
    {
     "name": "stdout",
     "output_type": "stream",
     "text": [
      "Reject null hypothesis\n"
     ]
    }
   ],
   "source": [
    "if z > critical_value:\n",
    "    print(\"Reject null hypothesis\")\n",
    "else:\n",
    "    print(\"Fail to reject null hypothesis\")\n",
    "    "
   ]
  },
  {
   "cell_type": "markdown",
   "id": "d395db83",
   "metadata": {},
   "source": [
    "Q2. A coffee shop claims that their average wait time for customers is less than 5 minutes. To test this claim, a sample of 40 customers is taken, and their wait times are recorded. The sample mean wait time is found to be 4.6 minutes with a standard deviation of 0.8 minutes. Perform a hypothesis test at a significance level of 0.05 and determine whether there is enough evidence to support the coffee shop's claim."
   ]
  },
  {
   "cell_type": "code",
   "execution_count": 20,
   "id": "49389a60",
   "metadata": {},
   "outputs": [],
   "source": [
    "population_mean = 5\n",
    "sample_size = 40\n",
    "sample_mean = 4.6\n",
    "sample_sd = 0.8\n",
    "alpha = 0.05"
   ]
  },
  {
   "cell_type": "code",
   "execution_count": 21,
   "id": "ddfc2da1",
   "metadata": {},
   "outputs": [
    {
     "name": "stdout",
     "output_type": "stream",
     "text": [
      "Test Statistics (t-score) = -3.162277660168382\n"
     ]
    }
   ],
   "source": [
    "t = (sample_mean - population_mean) / (sample_sd / np.sqrt(sample_size))\n",
    "print(\"t-score: \", t)"
   ]
  },
  {
   "cell_type": "code",
   "execution_count": 22,
   "id": "ba7b5787",
   "metadata": {},
   "outputs": [
    {
     "name": "stdout",
     "output_type": "stream",
     "text": [
      "critical_value:  -1.6848751194974\n"
     ]
    }
   ],
   "source": [
    "critical_value = stats.t.ppf(alpha, sample_size - 1)\n",
    "print(\"critical_value: \", critical_value)"
   ]
  },
  {
   "cell_type": "code",
   "execution_count": 23,
   "id": "6e752c80",
   "metadata": {},
   "outputs": [
    {
     "name": "stdout",
     "output_type": "stream",
     "text": [
      "Reject null hypothesis\n"
     ]
    }
   ],
   "source": [
    "if t < -critical_value:\n",
    "    print(\"Reject null hypothesis\")\n",
    "else:\n",
    "    print(\"Fail to reject null hypothesis\")\n"
   ]
  }
 ],
 "metadata": {
  "kernelspec": {
   "display_name": "Python 3 (ipykernel)",
   "language": "python",
   "name": "python3"
  },
  "language_info": {
   "codemirror_mode": {
    "name": "ipython",
    "version": 3
   },
   "file_extension": ".py",
   "mimetype": "text/x-python",
   "name": "python",
   "nbconvert_exporter": "python",
   "pygments_lexer": "ipython3",
   "version": "3.11.5"
  }
 },
 "nbformat": 4,
 "nbformat_minor": 5
}
