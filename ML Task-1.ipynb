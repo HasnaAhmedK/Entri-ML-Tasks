{
 "cells": [
  {
   "cell_type": "markdown",
   "id": "4fee545f",
   "metadata": {},
   "source": [
    "## Measures of Descriptive statistics-Central Tendency, spread"
   ]
  },
  {
   "cell_type": "code",
   "execution_count": 13,
   "id": "7ae1a2bb",
   "metadata": {},
   "outputs": [],
   "source": [
    "import pandas as pd\n",
    "import numpy as np\n",
    "import seaborn as sns\n",
    "import matplotlib.pyplot as plt"
   ]
  },
  {
   "cell_type": "code",
   "execution_count": 14,
   "id": "9bead232",
   "metadata": {},
   "outputs": [
    {
     "data": {
      "text/html": [
       "<div>\n",
       "<style scoped>\n",
       "    .dataframe tbody tr th:only-of-type {\n",
       "        vertical-align: middle;\n",
       "    }\n",
       "\n",
       "    .dataframe tbody tr th {\n",
       "        vertical-align: top;\n",
       "    }\n",
       "\n",
       "    .dataframe thead th {\n",
       "        text-align: right;\n",
       "    }\n",
       "</style>\n",
       "<table border=\"1\" class=\"dataframe\">\n",
       "  <thead>\n",
       "    <tr style=\"text-align: right;\">\n",
       "      <th></th>\n",
       "      <th>location</th>\n",
       "      <th>size</th>\n",
       "      <th>total_sqft</th>\n",
       "      <th>bath</th>\n",
       "      <th>price</th>\n",
       "      <th>bhk</th>\n",
       "      <th>price_per_sqft</th>\n",
       "    </tr>\n",
       "  </thead>\n",
       "  <tbody>\n",
       "    <tr>\n",
       "      <th>0</th>\n",
       "      <td>Electronic City Phase II</td>\n",
       "      <td>2 BHK</td>\n",
       "      <td>1056.0</td>\n",
       "      <td>2.0</td>\n",
       "      <td>39.07</td>\n",
       "      <td>2</td>\n",
       "      <td>3699</td>\n",
       "    </tr>\n",
       "    <tr>\n",
       "      <th>1</th>\n",
       "      <td>Chikka Tirupathi</td>\n",
       "      <td>4 Bedroom</td>\n",
       "      <td>2600.0</td>\n",
       "      <td>5.0</td>\n",
       "      <td>120.00</td>\n",
       "      <td>4</td>\n",
       "      <td>4615</td>\n",
       "    </tr>\n",
       "    <tr>\n",
       "      <th>2</th>\n",
       "      <td>Uttarahalli</td>\n",
       "      <td>3 BHK</td>\n",
       "      <td>1440.0</td>\n",
       "      <td>2.0</td>\n",
       "      <td>62.00</td>\n",
       "      <td>3</td>\n",
       "      <td>4305</td>\n",
       "    </tr>\n",
       "    <tr>\n",
       "      <th>3</th>\n",
       "      <td>Lingadheeranahalli</td>\n",
       "      <td>3 BHK</td>\n",
       "      <td>1521.0</td>\n",
       "      <td>3.0</td>\n",
       "      <td>95.00</td>\n",
       "      <td>3</td>\n",
       "      <td>6245</td>\n",
       "    </tr>\n",
       "    <tr>\n",
       "      <th>4</th>\n",
       "      <td>Kothanur</td>\n",
       "      <td>2 BHK</td>\n",
       "      <td>1200.0</td>\n",
       "      <td>2.0</td>\n",
       "      <td>51.00</td>\n",
       "      <td>2</td>\n",
       "      <td>4250</td>\n",
       "    </tr>\n",
       "  </tbody>\n",
       "</table>\n",
       "</div>"
      ],
      "text/plain": [
       "                   location       size  total_sqft  bath   price  bhk  \\\n",
       "0  Electronic City Phase II      2 BHK      1056.0   2.0   39.07    2   \n",
       "1          Chikka Tirupathi  4 Bedroom      2600.0   5.0  120.00    4   \n",
       "2               Uttarahalli      3 BHK      1440.0   2.0   62.00    3   \n",
       "3        Lingadheeranahalli      3 BHK      1521.0   3.0   95.00    3   \n",
       "4                  Kothanur      2 BHK      1200.0   2.0   51.00    2   \n",
       "\n",
       "   price_per_sqft  \n",
       "0            3699  \n",
       "1            4615  \n",
       "2            4305  \n",
       "3            6245  \n",
       "4            4250  "
      ]
     },
     "execution_count": 14,
     "metadata": {},
     "output_type": "execute_result"
    }
   ],
   "source": [
    "data=pd.read_csv('house_price.csv')\n",
    "data.head()"
   ]
  },
  {
   "cell_type": "code",
   "execution_count": 15,
   "id": "c7af6743",
   "metadata": {},
   "outputs": [
    {
     "name": "stdout",
     "output_type": "stream",
     "text": [
      "<class 'pandas.core.frame.DataFrame'>\n",
      "RangeIndex: 13200 entries, 0 to 13199\n",
      "Data columns (total 7 columns):\n",
      " #   Column          Non-Null Count  Dtype  \n",
      "---  ------          --------------  -----  \n",
      " 0   location        13200 non-null  object \n",
      " 1   size            13200 non-null  object \n",
      " 2   total_sqft      13200 non-null  float64\n",
      " 3   bath            13200 non-null  float64\n",
      " 4   price           13200 non-null  float64\n",
      " 5   bhk             13200 non-null  int64  \n",
      " 6   price_per_sqft  13200 non-null  int64  \n",
      "dtypes: float64(3), int64(2), object(2)\n",
      "memory usage: 722.0+ KB\n"
     ]
    }
   ],
   "source": [
    "data.info()"
   ]
  },
  {
   "cell_type": "code",
   "execution_count": 16,
   "id": "50d6f58a",
   "metadata": {},
   "outputs": [
    {
     "data": {
      "text/html": [
       "<div>\n",
       "<style scoped>\n",
       "    .dataframe tbody tr th:only-of-type {\n",
       "        vertical-align: middle;\n",
       "    }\n",
       "\n",
       "    .dataframe tbody tr th {\n",
       "        vertical-align: top;\n",
       "    }\n",
       "\n",
       "    .dataframe thead th {\n",
       "        text-align: right;\n",
       "    }\n",
       "</style>\n",
       "<table border=\"1\" class=\"dataframe\">\n",
       "  <thead>\n",
       "    <tr style=\"text-align: right;\">\n",
       "      <th></th>\n",
       "      <th>total_sqft</th>\n",
       "      <th>bath</th>\n",
       "      <th>price</th>\n",
       "      <th>bhk</th>\n",
       "      <th>price_per_sqft</th>\n",
       "    </tr>\n",
       "  </thead>\n",
       "  <tbody>\n",
       "    <tr>\n",
       "      <th>count</th>\n",
       "      <td>13200.000000</td>\n",
       "      <td>13200.000000</td>\n",
       "      <td>13200.000000</td>\n",
       "      <td>13200.000000</td>\n",
       "      <td>1.320000e+04</td>\n",
       "    </tr>\n",
       "    <tr>\n",
       "      <th>mean</th>\n",
       "      <td>1555.302783</td>\n",
       "      <td>2.691136</td>\n",
       "      <td>112.276178</td>\n",
       "      <td>2.800833</td>\n",
       "      <td>7.920337e+03</td>\n",
       "    </tr>\n",
       "    <tr>\n",
       "      <th>std</th>\n",
       "      <td>1237.323445</td>\n",
       "      <td>1.338915</td>\n",
       "      <td>149.175995</td>\n",
       "      <td>1.292843</td>\n",
       "      <td>1.067272e+05</td>\n",
       "    </tr>\n",
       "    <tr>\n",
       "      <th>min</th>\n",
       "      <td>1.000000</td>\n",
       "      <td>1.000000</td>\n",
       "      <td>8.000000</td>\n",
       "      <td>1.000000</td>\n",
       "      <td>2.670000e+02</td>\n",
       "    </tr>\n",
       "    <tr>\n",
       "      <th>25%</th>\n",
       "      <td>1100.000000</td>\n",
       "      <td>2.000000</td>\n",
       "      <td>50.000000</td>\n",
       "      <td>2.000000</td>\n",
       "      <td>4.267000e+03</td>\n",
       "    </tr>\n",
       "    <tr>\n",
       "      <th>50%</th>\n",
       "      <td>1275.000000</td>\n",
       "      <td>2.000000</td>\n",
       "      <td>71.850000</td>\n",
       "      <td>3.000000</td>\n",
       "      <td>5.438000e+03</td>\n",
       "    </tr>\n",
       "    <tr>\n",
       "      <th>75%</th>\n",
       "      <td>1672.000000</td>\n",
       "      <td>3.000000</td>\n",
       "      <td>120.000000</td>\n",
       "      <td>3.000000</td>\n",
       "      <td>7.317000e+03</td>\n",
       "    </tr>\n",
       "    <tr>\n",
       "      <th>max</th>\n",
       "      <td>52272.000000</td>\n",
       "      <td>40.000000</td>\n",
       "      <td>3600.000000</td>\n",
       "      <td>43.000000</td>\n",
       "      <td>1.200000e+07</td>\n",
       "    </tr>\n",
       "  </tbody>\n",
       "</table>\n",
       "</div>"
      ],
      "text/plain": [
       "         total_sqft          bath         price           bhk  price_per_sqft\n",
       "count  13200.000000  13200.000000  13200.000000  13200.000000    1.320000e+04\n",
       "mean    1555.302783      2.691136    112.276178      2.800833    7.920337e+03\n",
       "std     1237.323445      1.338915    149.175995      1.292843    1.067272e+05\n",
       "min        1.000000      1.000000      8.000000      1.000000    2.670000e+02\n",
       "25%     1100.000000      2.000000     50.000000      2.000000    4.267000e+03\n",
       "50%     1275.000000      2.000000     71.850000      3.000000    5.438000e+03\n",
       "75%     1672.000000      3.000000    120.000000      3.000000    7.317000e+03\n",
       "max    52272.000000     40.000000   3600.000000     43.000000    1.200000e+07"
      ]
     },
     "execution_count": 16,
     "metadata": {},
     "output_type": "execute_result"
    }
   ],
   "source": [
    "data.describe()"
   ]
  },
  {
   "cell_type": "markdown",
   "id": "9913f8a8",
   "metadata": {},
   "source": [
    "## 1- Mean Function "
   ]
  },
  {
   "cell_type": "code",
   "execution_count": 20,
   "id": "b3f43e7f",
   "metadata": {},
   "outputs": [],
   "source": [
    "mean_price_per_sqft = data['price_per_sqft'].mean()\n",
    "std_dev_price_per_sqft = data['price_per_sqft'].std()"
   ]
  },
  {
   "cell_type": "code",
   "execution_count": 28,
   "id": "c80eeb26",
   "metadata": {},
   "outputs": [
    {
     "name": "stdout",
     "output_type": "stream",
     "text": [
      "                       location       size  total_sqft  bath   price  bhk  \\\n",
      "0      Electronic City Phase II      2 BHK      1056.0   2.0   39.07    2   \n",
      "1              Chikka Tirupathi  4 Bedroom      2600.0   5.0  120.00    4   \n",
      "2                   Uttarahalli      3 BHK      1440.0   2.0   62.00    3   \n",
      "3            Lingadheeranahalli      3 BHK      1521.0   3.0   95.00    3   \n",
      "4                      Kothanur      2 BHK      1200.0   2.0   51.00    2   \n",
      "...                         ...        ...         ...   ...     ...  ...   \n",
      "13195                Whitefield  5 Bedroom      3453.0   4.0  231.00    5   \n",
      "13196                     other      4 BHK      3600.0   5.0  400.00    4   \n",
      "13197     Raja Rajeshwari Nagar      2 BHK      1141.0   2.0   60.00    2   \n",
      "13198           Padmanabhanagar      4 BHK      4689.0   4.0  488.00    4   \n",
      "13199              Doddathoguru      1 BHK       550.0   1.0   17.00    1   \n",
      "\n",
      "       price_per_sqft  \n",
      "0                3699  \n",
      "1                4615  \n",
      "2                4305  \n",
      "3                6245  \n",
      "4                4250  \n",
      "...               ...  \n",
      "13195            6689  \n",
      "13196           11111  \n",
      "13197            5258  \n",
      "13198           10407  \n",
      "13199            3090  \n",
      "\n",
      "[13195 rows x 7 columns]\n"
     ]
    }
   ],
   "source": [
    "threshold = 3\n",
    "data_mean = data[(data['price_per_sqft'] >= mean_price_per_sqft - threshold * std_dev_price_per_sqft) & (data['price_per_sqft'] <= mean_price_per_sqft + threshold * std_dev_price_per_sqft)]\n",
    "print(data_mean)"
   ]
  },
  {
   "cell_type": "markdown",
   "id": "e5d211f3",
   "metadata": {},
   "source": [
    "## 2 - Percentile method"
   ]
  },
  {
   "cell_type": "code",
   "execution_count": 31,
   "id": "282ba166",
   "metadata": {},
   "outputs": [
    {
     "name": "stdout",
     "output_type": "stream",
     "text": [
      "upper limit 23674.45000000001\n",
      "lower limit 2549.0\n"
     ]
    }
   ],
   "source": [
    "upper_limit = data['price_per_sqft'].quantile(0.99)\n",
    "lower_limit = data['price_per_sqft'].quantile(0.01)\n",
    "print('upper limit', upper_limit)\n",
    "print('lower limit', lower_limit)"
   ]
  },
  {
   "cell_type": "code",
   "execution_count": 33,
   "id": "c737d30c",
   "metadata": {},
   "outputs": [
    {
     "data": {
      "text/plain": [
       "<Axes: >"
      ]
     },
     "execution_count": 33,
     "metadata": {},
     "output_type": "execute_result"
    },
    {
     "data": {
      "image/png": "[encoded data removed]",
      "text/plain": [
       "<Figure size 640x480 with 1 Axes>"
      ]
     },
     "metadata": {},
     "output_type": "display_data"
    }
   ],
   "source": [
    "sns.boxplot(data['price_per_sqft'])"
   ]
  },
  {
   "cell_type": "code",
   "execution_count": 42,
   "id": "86a9098a",
   "metadata": {},
   "outputs": [
    {
     "data": {
      "text/html": [
       "<div>\n",
       "<style scoped>\n",
       "    .dataframe tbody tr th:only-of-type {\n",
       "        vertical-align: middle;\n",
       "    }\n",
       "\n",
       "    .dataframe tbody tr th {\n",
       "        vertical-align: top;\n",
       "    }\n",
       "\n",
       "    .dataframe thead th {\n",
       "        text-align: right;\n",
       "    }\n",
       "</style>\n",
       "<table border=\"1\" class=\"dataframe\">\n",
       "  <thead>\n",
       "    <tr style=\"text-align: right;\">\n",
       "      <th></th>\n",
       "      <th>location</th>\n",
       "      <th>size</th>\n",
       "      <th>total_sqft</th>\n",
       "      <th>bath</th>\n",
       "      <th>price</th>\n",
       "      <th>bhk</th>\n",
       "      <th>price_per_sqft</th>\n",
       "    </tr>\n",
       "  </thead>\n",
       "  <tbody>\n",
       "    <tr>\n",
       "      <th>9</th>\n",
       "      <td>other</td>\n",
       "      <td>6 Bedroom</td>\n",
       "      <td>1020.0</td>\n",
       "      <td>6.0</td>\n",
       "      <td>370.0</td>\n",
       "      <td>6</td>\n",
       "      <td>36274</td>\n",
       "    </tr>\n",
       "    <tr>\n",
       "      <th>20</th>\n",
       "      <td>Kengeri</td>\n",
       "      <td>1 BHK</td>\n",
       "      <td>600.0</td>\n",
       "      <td>1.0</td>\n",
       "      <td>15.0</td>\n",
       "      <td>1</td>\n",
       "      <td>2500</td>\n",
       "    </tr>\n",
       "    <tr>\n",
       "      <th>45</th>\n",
       "      <td>HSR Layout</td>\n",
       "      <td>8 Bedroom</td>\n",
       "      <td>600.0</td>\n",
       "      <td>9.0</td>\n",
       "      <td>200.0</td>\n",
       "      <td>8</td>\n",
       "      <td>33333</td>\n",
       "    </tr>\n",
       "    <tr>\n",
       "      <th>130</th>\n",
       "      <td>Electronic City</td>\n",
       "      <td>2 BHK</td>\n",
       "      <td>880.0</td>\n",
       "      <td>1.0</td>\n",
       "      <td>16.5</td>\n",
       "      <td>2</td>\n",
       "      <td>1875</td>\n",
       "    </tr>\n",
       "    <tr>\n",
       "      <th>169</th>\n",
       "      <td>Attibele</td>\n",
       "      <td>1 BHK</td>\n",
       "      <td>450.0</td>\n",
       "      <td>1.0</td>\n",
       "      <td>11.0</td>\n",
       "      <td>1</td>\n",
       "      <td>2444</td>\n",
       "    </tr>\n",
       "    <tr>\n",
       "      <th>...</th>\n",
       "      <td>...</td>\n",
       "      <td>...</td>\n",
       "      <td>...</td>\n",
       "      <td>...</td>\n",
       "      <td>...</td>\n",
       "      <td>...</td>\n",
       "      <td>...</td>\n",
       "    </tr>\n",
       "    <tr>\n",
       "      <th>13081</th>\n",
       "      <td>other</td>\n",
       "      <td>6 Bedroom</td>\n",
       "      <td>8000.0</td>\n",
       "      <td>6.0</td>\n",
       "      <td>2800.0</td>\n",
       "      <td>6</td>\n",
       "      <td>35000</td>\n",
       "    </tr>\n",
       "    <tr>\n",
       "      <th>13094</th>\n",
       "      <td>other</td>\n",
       "      <td>4 Bedroom</td>\n",
       "      <td>1200.0</td>\n",
       "      <td>5.0</td>\n",
       "      <td>325.0</td>\n",
       "      <td>4</td>\n",
       "      <td>27083</td>\n",
       "    </tr>\n",
       "    <tr>\n",
       "      <th>13127</th>\n",
       "      <td>other</td>\n",
       "      <td>4 Bedroom</td>\n",
       "      <td>1200.0</td>\n",
       "      <td>5.0</td>\n",
       "      <td>325.0</td>\n",
       "      <td>4</td>\n",
       "      <td>27083</td>\n",
       "    </tr>\n",
       "    <tr>\n",
       "      <th>13185</th>\n",
       "      <td>Hulimavu</td>\n",
       "      <td>1 BHK</td>\n",
       "      <td>500.0</td>\n",
       "      <td>1.0</td>\n",
       "      <td>220.0</td>\n",
       "      <td>1</td>\n",
       "      <td>44000</td>\n",
       "    </tr>\n",
       "    <tr>\n",
       "      <th>13186</th>\n",
       "      <td>other</td>\n",
       "      <td>4 Bedroom</td>\n",
       "      <td>1200.0</td>\n",
       "      <td>5.0</td>\n",
       "      <td>325.0</td>\n",
       "      <td>4</td>\n",
       "      <td>27083</td>\n",
       "    </tr>\n",
       "  </tbody>\n",
       "</table>\n",
       "<p>259 rows × 7 columns</p>\n",
       "</div>"
      ],
      "text/plain": [
       "              location       size  total_sqft  bath   price  bhk  \\\n",
       "9                other  6 Bedroom      1020.0   6.0   370.0    6   \n",
       "20             Kengeri      1 BHK       600.0   1.0    15.0    1   \n",
       "45          HSR Layout  8 Bedroom       600.0   9.0   200.0    8   \n",
       "130    Electronic City      2 BHK       880.0   1.0    16.5    2   \n",
       "169           Attibele      1 BHK       450.0   1.0    11.0    1   \n",
       "...                ...        ...         ...   ...     ...  ...   \n",
       "13081            other  6 Bedroom      8000.0   6.0  2800.0    6   \n",
       "13094            other  4 Bedroom      1200.0   5.0   325.0    4   \n",
       "13127            other  4 Bedroom      1200.0   5.0   325.0    4   \n",
       "13185         Hulimavu      1 BHK       500.0   1.0   220.0    1   \n",
       "13186            other  4 Bedroom      1200.0   5.0   325.0    4   \n",
       "\n",
       "       price_per_sqft  \n",
       "9               36274  \n",
       "20               2500  \n",
       "45              33333  \n",
       "130              1875  \n",
       "169              2444  \n",
       "...               ...  \n",
       "13081           35000  \n",
       "13094           27083  \n",
       "13127           27083  \n",
       "13185           44000  \n",
       "13186           27083  \n",
       "\n",
       "[259 rows x 7 columns]"
      ]
     },
     "execution_count": 42,
     "metadata": {},
     "output_type": "execute_result"
    }
   ],
   "source": [
    "data.loc[(data['price_per_sqft'] > upper_limit) | (data['price_per_sqft'] < lower_limit)]\n"
   ]
  },
  {
   "cell_type": "code",
   "execution_count": 43,
   "id": "5d1644a6",
   "metadata": {},
   "outputs": [
    {
     "name": "stdout",
     "output_type": "stream",
     "text": [
      "old data: 13200\n",
      "new data: 12941\n",
      "outliers: 259\n"
     ]
    }
   ],
   "source": [
    "trim_data = data.loc[(data['price_per_sqft']  <= upper_limit) & (data['price_per_sqft'] >= lower_limit)]\n",
    "print('old data:', len(data))\n",
    "print('new data:', len(trim_data))\n",
    "print('outliers:', len(data)-len(trim_data))"
   ]
  },
  {
   "cell_type": "code",
   "execution_count": 44,
   "id": "f810a595",
   "metadata": {},
   "outputs": [
    {
     "data": {
      "text/plain": [
       "<Axes: >"
      ]
     },
     "execution_count": 44,
     "metadata": {},
     "output_type": "execute_result"
    },
    {
     "data": {
      "image/png": "[encoded data removed]",
      "text/plain": [
       "<Figure size 640x480 with 1 Axes>"
      ]
     },
     "metadata": {},
     "output_type": "display_data"
    }
   ],
   "source": [
    "sns.boxplot(trim_data['price_per_sqft'])"
   ]
  },
  {
   "cell_type": "code",
   "execution_count": 46,
   "id": "de38c901",
   "metadata": {},
   "outputs": [
    {
     "name": "stdout",
     "output_type": "stream",
     "text": [
      "                       location       size  total_sqft  bath   price  bhk  \\\n",
      "0      Electronic City Phase II      2 BHK      1056.0   2.0   39.07    2   \n",
      "1              Chikka Tirupathi  4 Bedroom      2600.0   5.0  120.00    4   \n",
      "2                   Uttarahalli      3 BHK      1440.0   2.0   62.00    3   \n",
      "3            Lingadheeranahalli      3 BHK      1521.0   3.0   95.00    3   \n",
      "4                      Kothanur      2 BHK      1200.0   2.0   51.00    2   \n",
      "...                         ...        ...         ...   ...     ...  ...   \n",
      "13195                Whitefield  5 Bedroom      3453.0   4.0  231.00    5   \n",
      "13196                     other      4 BHK      3600.0   5.0  400.00    4   \n",
      "13197     Raja Rajeshwari Nagar      2 BHK      1141.0   2.0   60.00    2   \n",
      "13198           Padmanabhanagar      4 BHK      4689.0   4.0  488.00    4   \n",
      "13199              Doddathoguru      1 BHK       550.0   1.0   17.00    1   \n",
      "\n",
      "       price_per_sqft  \n",
      "0              3699.0  \n",
      "1              4615.0  \n",
      "2              4305.0  \n",
      "3              6245.0  \n",
      "4              4250.0  \n",
      "...               ...  \n",
      "13195          6689.0  \n",
      "13196         11111.0  \n",
      "13197          5258.0  \n",
      "13198         10407.0  \n",
      "13199          3090.0  \n",
      "\n",
      "[13200 rows x 7 columns]\n"
     ]
    }
   ],
   "source": [
    "# capping - change the outlier valuesto upper (or) lower limit values\n",
    "trim_data = data.copy()\n",
    "trim_data.loc[(trim_data['price_per_sqft']>upper_limit), 'price_per_sqft'] = upper_limit\n",
    "trim_data.loc[(trim_data['price_per_sqft']<lower_limit), 'price_per_sqft'] = lower_limit\n",
    "print(trim_data)"
   ]
  },
  {
   "cell_type": "code",
   "execution_count": 47,
   "id": "15ac528a",
   "metadata": {},
   "outputs": [
    {
     "data": {
      "text/plain": [
       "<Axes: >"
      ]
     },
     "execution_count": 47,
     "metadata": {},
     "output_type": "execute_result"
    },
    {
     "data": {
      "image/png": "[encoded data removed]",
      "text/plain": [
       "<Figure size 640x480 with 1 Axes>"
      ]
     },
     "metadata": {},
     "output_type": "display_data"
    }
   ],
   "source": [
    "sns.boxplot(trim_data['price_per_sqft'])"
   ]
  },
  {
   "cell_type": "code",
   "execution_count": 48,
   "id": "839f786c",
   "metadata": {},
   "outputs": [
    {
     "name": "stderr",
     "output_type": "stream",
     "text": [
      "C:\\Users\\HP\\AppData\\Local\\Temp\\ipykernel_3436\\3464376093.py:2: UserWarning: \n",
      "\n",
      "`distplot` is a deprecated function and will be removed in seaborn v0.14.0.\n",
      "\n",
      "Please adapt your code to use either `displot` (a figure-level function with\n",
      "similar flexibility) or `histplot` (an axes-level function for histograms).\n",
      "\n",
      "For a guide to updating your code to use the new functions, please see\n",
      "https://gist.github.com/mwaskom/de44147ed2974457ad6372750bbe5751\n",
      "\n",
      "  sns.distplot(data['price_per_sqft'])\n"
     ]
    },
    {
     "data": {
      "text/plain": [
       "<Axes: xlabel='price_per_sqft', ylabel='Density'>"
      ]
     },
     "execution_count": 48,
     "metadata": {},
     "output_type": "execute_result"
    },
    {
     "data": {
      "image/png": "[encoded data removed]",
      "text/plain": [
       "<Figure size 640x480 with 1 Axes>"
      ]
     },
     "metadata": {},
     "output_type": "display_data"
    }
   ],
   "source": [
    "# old distplot\n",
    "sns.distplot(data['price_per_sqft'])"
   ]
  },
  {
   "cell_type": "code",
   "execution_count": 49,
   "id": "667ace33",
   "metadata": {},
   "outputs": [
    {
     "data": {
      "text/plain": [
       "<Axes: xlabel='price_per_sqft', ylabel='Count'>"
      ]
     },
     "execution_count": 49,
     "metadata": {},
     "output_type": "execute_result"
    },
    {
     "data": {
      "image/png": "[encoded data removed]",
      "text/plain": [
       "<Figure size 640x480 with 1 Axes>"
      ]
     },
     "metadata": {},
     "output_type": "display_data"
    }
   ],
   "source": [
    "sns.histplot(trim_data['price_per_sqft'])"
   ]
  },
  {
   "cell_type": "code",
   "execution_count": 50,
   "id": "ab556116",
   "metadata": {},
   "outputs": [
    {
     "name": "stderr",
     "output_type": "stream",
     "text": [
      "C:\\Users\\HP\\AppData\\Local\\Temp\\ipykernel_3436\\2588026466.py:1: UserWarning: \n",
      "\n",
      "`distplot` is a deprecated function and will be removed in seaborn v0.14.0.\n",
      "\n",
      "Please adapt your code to use either `displot` (a figure-level function with\n",
      "similar flexibility) or `histplot` (an axes-level function for histograms).\n",
      "\n",
      "For a guide to updating your code to use the new functions, please see\n",
      "https://gist.github.com/mwaskom/de44147ed2974457ad6372750bbe5751\n",
      "\n",
      "  sns.distplot(trim_data['price_per_sqft'])\n"
     ]
    },
    {
     "data": {
      "text/plain": [
       "<Axes: xlabel='price_per_sqft', ylabel='Density'>"
      ]
     },
     "execution_count": 50,
     "metadata": {},
     "output_type": "execute_result"
    },
    {
     "data": {
      "image/png": "[encoded data removed]",
      "text/plain": [
       "<Figure size 640x480 with 1 Axes>"
      ]
     },
     "metadata": {},
     "output_type": "display_data"
    }
   ],
   "source": [
    "sns.distplot(trim_data['price_per_sqft'])"
   ]
  },
  {
   "cell_type": "markdown",
   "id": "a573c387",
   "metadata": {},
   "source": [
    "## 3 - IQR Method"
   ]
  },
  {
   "cell_type": "code",
   "execution_count": 57,
   "id": "4f1e78fd",
   "metadata": {},
   "outputs": [
    {
     "data": {
      "text/html": [
       "<div>\n",
       "<style scoped>\n",
       "    .dataframe tbody tr th:only-of-type {\n",
       "        vertical-align: middle;\n",
       "    }\n",
       "\n",
       "    .dataframe tbody tr th {\n",
       "        vertical-align: top;\n",
       "    }\n",
       "\n",
       "    .dataframe thead th {\n",
       "        text-align: right;\n",
       "    }\n",
       "</style>\n",
       "<table border=\"1\" class=\"dataframe\">\n",
       "  <thead>\n",
       "    <tr style=\"text-align: right;\">\n",
       "      <th></th>\n",
       "      <th>location</th>\n",
       "      <th>size</th>\n",
       "      <th>total_sqft</th>\n",
       "      <th>bath</th>\n",
       "      <th>price</th>\n",
       "      <th>bhk</th>\n",
       "      <th>price_per_sqft</th>\n",
       "    </tr>\n",
       "  </thead>\n",
       "  <tbody>\n",
       "    <tr>\n",
       "      <th>7</th>\n",
       "      <td>Rajaji Nagar</td>\n",
       "      <td>4 BHK</td>\n",
       "      <td>3300.0</td>\n",
       "      <td>4.0</td>\n",
       "      <td>600.0</td>\n",
       "      <td>4</td>\n",
       "      <td>18181</td>\n",
       "    </tr>\n",
       "    <tr>\n",
       "      <th>9</th>\n",
       "      <td>other</td>\n",
       "      <td>6 Bedroom</td>\n",
       "      <td>1020.0</td>\n",
       "      <td>6.0</td>\n",
       "      <td>370.0</td>\n",
       "      <td>6</td>\n",
       "      <td>36274</td>\n",
       "    </tr>\n",
       "    <tr>\n",
       "      <th>22</th>\n",
       "      <td>Thanisandra</td>\n",
       "      <td>4 Bedroom</td>\n",
       "      <td>2800.0</td>\n",
       "      <td>5.0</td>\n",
       "      <td>380.0</td>\n",
       "      <td>4</td>\n",
       "      <td>13571</td>\n",
       "    </tr>\n",
       "    <tr>\n",
       "      <th>45</th>\n",
       "      <td>HSR Layout</td>\n",
       "      <td>8 Bedroom</td>\n",
       "      <td>600.0</td>\n",
       "      <td>9.0</td>\n",
       "      <td>200.0</td>\n",
       "      <td>8</td>\n",
       "      <td>33333</td>\n",
       "    </tr>\n",
       "    <tr>\n",
       "      <th>48</th>\n",
       "      <td>KR Puram</td>\n",
       "      <td>2 Bedroom</td>\n",
       "      <td>800.0</td>\n",
       "      <td>1.0</td>\n",
       "      <td>130.0</td>\n",
       "      <td>2</td>\n",
       "      <td>16250</td>\n",
       "    </tr>\n",
       "    <tr>\n",
       "      <th>...</th>\n",
       "      <td>...</td>\n",
       "      <td>...</td>\n",
       "      <td>...</td>\n",
       "      <td>...</td>\n",
       "      <td>...</td>\n",
       "      <td>...</td>\n",
       "      <td>...</td>\n",
       "    </tr>\n",
       "    <tr>\n",
       "      <th>13142</th>\n",
       "      <td>other</td>\n",
       "      <td>2 BHK</td>\n",
       "      <td>1140.0</td>\n",
       "      <td>1.0</td>\n",
       "      <td>185.0</td>\n",
       "      <td>2</td>\n",
       "      <td>16228</td>\n",
       "    </tr>\n",
       "    <tr>\n",
       "      <th>13157</th>\n",
       "      <td>other</td>\n",
       "      <td>7 Bedroom</td>\n",
       "      <td>1400.0</td>\n",
       "      <td>7.0</td>\n",
       "      <td>218.0</td>\n",
       "      <td>7</td>\n",
       "      <td>15571</td>\n",
       "    </tr>\n",
       "    <tr>\n",
       "      <th>13185</th>\n",
       "      <td>Hulimavu</td>\n",
       "      <td>1 BHK</td>\n",
       "      <td>500.0</td>\n",
       "      <td>1.0</td>\n",
       "      <td>220.0</td>\n",
       "      <td>1</td>\n",
       "      <td>44000</td>\n",
       "    </tr>\n",
       "    <tr>\n",
       "      <th>13186</th>\n",
       "      <td>other</td>\n",
       "      <td>4 Bedroom</td>\n",
       "      <td>1200.0</td>\n",
       "      <td>5.0</td>\n",
       "      <td>325.0</td>\n",
       "      <td>4</td>\n",
       "      <td>27083</td>\n",
       "    </tr>\n",
       "    <tr>\n",
       "      <th>13191</th>\n",
       "      <td>Ramamurthy Nagar</td>\n",
       "      <td>7 Bedroom</td>\n",
       "      <td>1500.0</td>\n",
       "      <td>9.0</td>\n",
       "      <td>250.0</td>\n",
       "      <td>7</td>\n",
       "      <td>16666</td>\n",
       "    </tr>\n",
       "  </tbody>\n",
       "</table>\n",
       "<p>1265 rows × 7 columns</p>\n",
       "</div>"
      ],
      "text/plain": [
       "               location       size  total_sqft  bath  price  bhk  \\\n",
       "7          Rajaji Nagar      4 BHK      3300.0   4.0  600.0    4   \n",
       "9                 other  6 Bedroom      1020.0   6.0  370.0    6   \n",
       "22          Thanisandra  4 Bedroom      2800.0   5.0  380.0    4   \n",
       "45           HSR Layout  8 Bedroom       600.0   9.0  200.0    8   \n",
       "48             KR Puram  2 Bedroom       800.0   1.0  130.0    2   \n",
       "...                 ...        ...         ...   ...    ...  ...   \n",
       "13142             other      2 BHK      1140.0   1.0  185.0    2   \n",
       "13157             other  7 Bedroom      1400.0   7.0  218.0    7   \n",
       "13185          Hulimavu      1 BHK       500.0   1.0  220.0    1   \n",
       "13186             other  4 Bedroom      1200.0   5.0  325.0    4   \n",
       "13191  Ramamurthy Nagar  7 Bedroom      1500.0   9.0  250.0    7   \n",
       "\n",
       "       price_per_sqft  \n",
       "7               18181  \n",
       "9               36274  \n",
       "22              13571  \n",
       "45              33333  \n",
       "48              16250  \n",
       "...               ...  \n",
       "13142           16228  \n",
       "13157           15571  \n",
       "13185           44000  \n",
       "13186           27083  \n",
       "13191           16666  \n",
       "\n",
       "[1265 rows x 7 columns]"
      ]
     },
     "execution_count": 57,
     "metadata": {},
     "output_type": "execute_result"
    }
   ],
   "source": [
    "Q1 = data['price_per_sqft'].quantile(0.25)\n",
    "Q3 = data['price_per_sqft'].quantile(0.75)\n",
    "IQR = Q3 - Q1\n",
    "data.loc[(data['price_per_sqft'] > Q3 + 1.5 * IQR) | (data['price_per_sqft'] < Q1 - 1.5 * IQR)]\n"
   ]
  },
  {
   "cell_type": "code",
   "execution_count": 58,
   "id": "bfc564da",
   "metadata": {},
   "outputs": [
    {
     "name": "stdout",
     "output_type": "stream",
     "text": [
      "old data: 13200\n",
      "new data: 11935\n",
      "outliers: 1265\n"
     ]
    }
   ],
   "source": [
    "trim_data = data.loc[(data['price_per_sqft']  <= Q3 + 1.5 * IQR ) & (data['price_per_sqft'] >= Q1 - 1.5 * IQR)]\n",
    "print('old data:', len(data))\n",
    "print('new data:', len(trim_data))\n",
    "print('outliers:', len(data)-len(trim_data))"
   ]
  },
  {
   "cell_type": "code",
   "execution_count": 59,
   "id": "b9a8acfa",
   "metadata": {},
   "outputs": [
    {
     "data": {
      "text/plain": [
       "<Axes: >"
      ]
     },
     "execution_count": 59,
     "metadata": {},
     "output_type": "execute_result"
    },
    {
     "data": {
      "image/png": "[encoded data removed]",
      "text/plain": [
       "<Figure size 640x480 with 1 Axes>"
      ]
     },
     "metadata": {},
     "output_type": "display_data"
    }
   ],
   "source": [
    "sns.boxplot(trim_data['price_per_sqft'])"
   ]
  },
  {
   "cell_type": "code",
   "execution_count": 63,
   "id": "4f830ce9",
   "metadata": {},
   "outputs": [
    {
     "name": "stdout",
     "output_type": "stream",
     "text": [
      "                       location       size  total_sqft  bath   price  bhk  \\\n",
      "0      Electronic City Phase II      2 BHK      1056.0   2.0   39.07    2   \n",
      "1              Chikka Tirupathi  4 Bedroom      2600.0   5.0  120.00    4   \n",
      "2                   Uttarahalli      3 BHK      1440.0   2.0   62.00    3   \n",
      "3            Lingadheeranahalli      3 BHK      1521.0   3.0   95.00    3   \n",
      "4                      Kothanur      2 BHK      1200.0   2.0   51.00    2   \n",
      "...                         ...        ...         ...   ...     ...  ...   \n",
      "13195                Whitefield  5 Bedroom      3453.0   4.0  231.00    5   \n",
      "13196                     other      4 BHK      3600.0   5.0  400.00    4   \n",
      "13197     Raja Rajeshwari Nagar      2 BHK      1141.0   2.0   60.00    2   \n",
      "13198           Padmanabhanagar      4 BHK      4689.0   4.0  488.00    4   \n",
      "13199              Doddathoguru      1 BHK       550.0   1.0   17.00    1   \n",
      "\n",
      "       price_per_sqft  \n",
      "0              3699.0  \n",
      "1              4615.0  \n",
      "2              4305.0  \n",
      "3              6245.0  \n",
      "4              4250.0  \n",
      "...               ...  \n",
      "13195          6689.0  \n",
      "13196         11111.0  \n",
      "13197          5258.0  \n",
      "13198         10407.0  \n",
      "13199          3090.0  \n",
      "\n",
      "[13200 rows x 7 columns]\n"
     ]
    }
   ],
   "source": [
    "trim_data = data.copy()\n",
    "trim_data.loc[(trim_data['price_per_sqft']> Q3 + 1.5 * IQR), 'price_per_sqft'] = upper_limit\n",
    "trim_data.loc[(trim_data['price_per_sqft']< Q1 - 1.5 * IQR), 'price_per_sqft'] = lower_limit\n",
    "print(trim_data)"
   ]
  },
  {
   "cell_type": "code",
   "execution_count": 65,
   "id": "f437f659",
   "metadata": {},
   "outputs": [
    {
     "data": {
      "text/plain": [
       "<Axes: >"
      ]
     },
     "execution_count": 65,
     "metadata": {},
     "output_type": "execute_result"
    },
    {
     "data": {
      "image/png": "[encoded data removed]",
      "text/plain": [
       "<Figure size 640x480 with 1 Axes>"
      ]
     },
     "metadata": {},
     "output_type": "display_data"
    }
   ],
   "source": [
    "sns.boxplot(trim_data['price_per_sqft'])"
   ]
  },
  {
   "cell_type": "markdown",
   "id": "51adafd0",
   "metadata": {},
   "source": [
    "## 4 - Z Score Method:"
   ]
  },
  {
   "cell_type": "code",
   "execution_count": 67,
   "id": "51c668be",
   "metadata": {},
   "outputs": [
    {
     "name": "stdout",
     "output_type": "stream",
     "text": [
      "upper limit: 328101.8177267496\n",
      "lower limit: -312261.1442419011\n"
     ]
    }
   ],
   "source": [
    "upper_limit = data['price_per_sqft'].mean() + 3*data['price_per_sqft'].std()\n",
    "lower_limit = data['price_per_sqft'].mean() - 3*data['price_per_sqft'].std()\n",
    "print('upper limit:', upper_limit)\n",
    "print('lower limit:', lower_limit)"
   ]
  },
  {
   "cell_type": "code",
   "execution_count": 69,
   "id": "e8d428f6",
   "metadata": {},
   "outputs": [
    {
     "data": {
      "text/html": [
       "<div>\n",
       "<style scoped>\n",
       "    .dataframe tbody tr th:only-of-type {\n",
       "        vertical-align: middle;\n",
       "    }\n",
       "\n",
       "    .dataframe tbody tr th {\n",
       "        vertical-align: top;\n",
       "    }\n",
       "\n",
       "    .dataframe thead th {\n",
       "        text-align: right;\n",
       "    }\n",
       "</style>\n",
       "<table border=\"1\" class=\"dataframe\">\n",
       "  <thead>\n",
       "    <tr style=\"text-align: right;\">\n",
       "      <th></th>\n",
       "      <th>location</th>\n",
       "      <th>size</th>\n",
       "      <th>total_sqft</th>\n",
       "      <th>bath</th>\n",
       "      <th>price</th>\n",
       "      <th>bhk</th>\n",
       "      <th>price_per_sqft</th>\n",
       "    </tr>\n",
       "  </thead>\n",
       "  <tbody>\n",
       "    <tr>\n",
       "      <th>345</th>\n",
       "      <td>other</td>\n",
       "      <td>3 Bedroom</td>\n",
       "      <td>11.0</td>\n",
       "      <td>3.0</td>\n",
       "      <td>74.0</td>\n",
       "      <td>3</td>\n",
       "      <td>672727</td>\n",
       "    </tr>\n",
       "    <tr>\n",
       "      <th>1106</th>\n",
       "      <td>other</td>\n",
       "      <td>5 Bedroom</td>\n",
       "      <td>24.0</td>\n",
       "      <td>2.0</td>\n",
       "      <td>150.0</td>\n",
       "      <td>5</td>\n",
       "      <td>625000</td>\n",
       "    </tr>\n",
       "    <tr>\n",
       "      <th>4044</th>\n",
       "      <td>Sarjapur  Road</td>\n",
       "      <td>4 Bedroom</td>\n",
       "      <td>1.0</td>\n",
       "      <td>4.0</td>\n",
       "      <td>120.0</td>\n",
       "      <td>4</td>\n",
       "      <td>12000000</td>\n",
       "    </tr>\n",
       "    <tr>\n",
       "      <th>4924</th>\n",
       "      <td>other</td>\n",
       "      <td>7 BHK</td>\n",
       "      <td>5.0</td>\n",
       "      <td>7.0</td>\n",
       "      <td>115.0</td>\n",
       "      <td>7</td>\n",
       "      <td>2300000</td>\n",
       "    </tr>\n",
       "    <tr>\n",
       "      <th>11447</th>\n",
       "      <td>Whitefield</td>\n",
       "      <td>4 Bedroom</td>\n",
       "      <td>60.0</td>\n",
       "      <td>4.0</td>\n",
       "      <td>218.0</td>\n",
       "      <td>4</td>\n",
       "      <td>363333</td>\n",
       "    </tr>\n",
       "  </tbody>\n",
       "</table>\n",
       "</div>"
      ],
      "text/plain": [
       "             location       size  total_sqft  bath  price  bhk  price_per_sqft\n",
       "345             other  3 Bedroom        11.0   3.0   74.0    3          672727\n",
       "1106            other  5 Bedroom        24.0   2.0  150.0    5          625000\n",
       "4044   Sarjapur  Road  4 Bedroom         1.0   4.0  120.0    4        12000000\n",
       "4924            other      7 BHK         5.0   7.0  115.0    7         2300000\n",
       "11447      Whitefield  4 Bedroom        60.0   4.0  218.0    4          363333"
      ]
     },
     "execution_count": 69,
     "metadata": {},
     "output_type": "execute_result"
    }
   ],
   "source": [
    "data.loc[(data['price_per_sqft']  > upper_limit) | (data['price_per_sqft'] < lower_limit)]"
   ]
  },
  {
   "cell_type": "code",
   "execution_count": 74,
   "id": "6ef0abf9",
   "metadata": {},
   "outputs": [
    {
     "name": "stdout",
     "output_type": "stream",
     "text": [
      "old data: 13200\n",
      "new data: 13195\n",
      "outliers: 5\n"
     ]
    }
   ],
   "source": [
    "trim_data = data.loc[(data['price_per_sqft']  <= upper_limit) & (data['price_per_sqft'] >= lower_limit)]\n",
    "print('old data:', len(data))\n",
    "print('new data:', len(trim_data))\n",
    "print('outliers:', len(data)-len(trim_data))"
   ]
  },
  {
   "cell_type": "code",
   "execution_count": 75,
   "id": "f856a630",
   "metadata": {},
   "outputs": [
    {
     "data": {
      "text/plain": [
       "<Axes: >"
      ]
     },
     "execution_count": 75,
     "metadata": {},
     "output_type": "execute_result"
    },
    {
     "data": {
      "image/png": "[encoded data removed]",
      "text/plain": [
       "<Figure size 640x480 with 1 Axes>"
      ]
     },
     "metadata": {},
     "output_type": "display_data"
    }
   ],
   "source": [
    "sns.boxplot(trim_data['price_per_sqft'])"
   ]
  },
  {
   "cell_type": "code",
   "execution_count": 76,
   "id": "9557349d",
   "metadata": {},
   "outputs": [
    {
     "name": "stdout",
     "output_type": "stream",
     "text": [
      "                       location       size  total_sqft  bath   price  bhk  \\\n",
      "0      Electronic City Phase II      2 BHK      1056.0   2.0   39.07    2   \n",
      "1              Chikka Tirupathi  4 Bedroom      2600.0   5.0  120.00    4   \n",
      "2                   Uttarahalli      3 BHK      1440.0   2.0   62.00    3   \n",
      "3            Lingadheeranahalli      3 BHK      1521.0   3.0   95.00    3   \n",
      "4                      Kothanur      2 BHK      1200.0   2.0   51.00    2   \n",
      "...                         ...        ...         ...   ...     ...  ...   \n",
      "13195                Whitefield  5 Bedroom      3453.0   4.0  231.00    5   \n",
      "13196                     other      4 BHK      3600.0   5.0  400.00    4   \n",
      "13197     Raja Rajeshwari Nagar      2 BHK      1141.0   2.0   60.00    2   \n",
      "13198           Padmanabhanagar      4 BHK      4689.0   4.0  488.00    4   \n",
      "13199              Doddathoguru      1 BHK       550.0   1.0   17.00    1   \n",
      "\n",
      "       price_per_sqft  \n",
      "0              3699.0  \n",
      "1              4615.0  \n",
      "2              4305.0  \n",
      "3              6245.0  \n",
      "4              4250.0  \n",
      "...               ...  \n",
      "13195          6689.0  \n",
      "13196         11111.0  \n",
      "13197          5258.0  \n",
      "13198         10407.0  \n",
      "13199          3090.0  \n",
      "\n",
      "[13200 rows x 7 columns]\n"
     ]
    }
   ],
   "source": [
    "trim_data = data.copy()\n",
    "trim_data.loc[(trim_data['price_per_sqft']> Q3 + 1.5 * IQR), 'price_per_sqft'] = upper_limit\n",
    "trim_data.loc[(trim_data['price_per_sqft']< Q1 - 1.5 * IQR), 'price_per_sqft'] = lower_limit\n",
    "print(trim_data)"
   ]
  },
  {
   "cell_type": "code",
   "execution_count": 77,
   "id": "416b5f01",
   "metadata": {},
   "outputs": [
    {
     "data": {
      "text/plain": [
       "<Axes: >"
      ]
     },
     "execution_count": 77,
     "metadata": {},
     "output_type": "execute_result"
    },
    {
     "data": {
      "image/png": "[encoded data removed]",
      "text/plain": [
       "<Figure size 640x480 with 1 Axes>"
      ]
     },
     "metadata": {},
     "output_type": "display_data"
    }
   ],
   "source": [
    "sns.boxplot(trim_data['price_per_sqft'])"
   ]
  },
  {
   "cell_type": "markdown",
   "id": "449e090e",
   "metadata": {},
   "source": [
    "## 5 - Normal Distribution Method"
   ]
  },
  {
   "cell_type": "code",
   "execution_count": 83,
   "id": "df644cf6",
   "metadata": {},
   "outputs": [
    {
     "data": {
      "text/html": [
       "<div>\n",
       "<style scoped>\n",
       "    .dataframe tbody tr th:only-of-type {\n",
       "        vertical-align: middle;\n",
       "    }\n",
       "\n",
       "    .dataframe tbody tr th {\n",
       "        vertical-align: top;\n",
       "    }\n",
       "\n",
       "    .dataframe thead th {\n",
       "        text-align: right;\n",
       "    }\n",
       "</style>\n",
       "<table border=\"1\" class=\"dataframe\">\n",
       "  <thead>\n",
       "    <tr style=\"text-align: right;\">\n",
       "      <th></th>\n",
       "      <th>location</th>\n",
       "      <th>size</th>\n",
       "      <th>total_sqft</th>\n",
       "      <th>bath</th>\n",
       "      <th>price</th>\n",
       "      <th>bhk</th>\n",
       "      <th>price_per_sqft</th>\n",
       "    </tr>\n",
       "  </thead>\n",
       "  <tbody>\n",
       "    <tr>\n",
       "      <th>345</th>\n",
       "      <td>other</td>\n",
       "      <td>3 Bedroom</td>\n",
       "      <td>11.0</td>\n",
       "      <td>3.0</td>\n",
       "      <td>74.0</td>\n",
       "      <td>3</td>\n",
       "      <td>672727</td>\n",
       "    </tr>\n",
       "    <tr>\n",
       "      <th>1106</th>\n",
       "      <td>other</td>\n",
       "      <td>5 Bedroom</td>\n",
       "      <td>24.0</td>\n",
       "      <td>2.0</td>\n",
       "      <td>150.0</td>\n",
       "      <td>5</td>\n",
       "      <td>625000</td>\n",
       "    </tr>\n",
       "    <tr>\n",
       "      <th>4044</th>\n",
       "      <td>Sarjapur  Road</td>\n",
       "      <td>4 Bedroom</td>\n",
       "      <td>1.0</td>\n",
       "      <td>4.0</td>\n",
       "      <td>120.0</td>\n",
       "      <td>4</td>\n",
       "      <td>12000000</td>\n",
       "    </tr>\n",
       "    <tr>\n",
       "      <th>4924</th>\n",
       "      <td>other</td>\n",
       "      <td>7 BHK</td>\n",
       "      <td>5.0</td>\n",
       "      <td>7.0</td>\n",
       "      <td>115.0</td>\n",
       "      <td>7</td>\n",
       "      <td>2300000</td>\n",
       "    </tr>\n",
       "    <tr>\n",
       "      <th>11447</th>\n",
       "      <td>Whitefield</td>\n",
       "      <td>4 Bedroom</td>\n",
       "      <td>60.0</td>\n",
       "      <td>4.0</td>\n",
       "      <td>218.0</td>\n",
       "      <td>4</td>\n",
       "      <td>363333</td>\n",
       "    </tr>\n",
       "  </tbody>\n",
       "</table>\n",
       "</div>"
      ],
      "text/plain": [
       "             location       size  total_sqft  bath  price  bhk  price_per_sqft\n",
       "345             other  3 Bedroom        11.0   3.0   74.0    3          672727\n",
       "1106            other  5 Bedroom        24.0   2.0  150.0    5          625000\n",
       "4044   Sarjapur  Road  4 Bedroom         1.0   4.0  120.0    4        12000000\n",
       "4924            other      7 BHK         5.0   7.0  115.0    7         2300000\n",
       "11447      Whitefield  4 Bedroom        60.0   4.0  218.0    4          363333"
      ]
     },
     "execution_count": 83,
     "metadata": {},
     "output_type": "execute_result"
    }
   ],
   "source": [
    "from scipy.stats import norm\n",
    "\n",
    "mu, std = norm.fit(data['price_per_sqft'])\n",
    "upper_limit_normal = mu + 2 * std\n",
    "lower_limit_normal = mu - 2 * std\n",
    "data.loc[(data['price_per_sqft']  > upper_limit) | (data['price_per_sqft'] < lower_limit)]\n"
   ]
  },
  {
   "cell_type": "code",
   "execution_count": 86,
   "id": "2098ee82",
   "metadata": {},
   "outputs": [
    {
     "name": "stdout",
     "output_type": "stream",
     "text": [
      "old data: 13200\n",
      "new data: 13195\n",
      "outliers: 5\n"
     ]
    }
   ],
   "source": [
    "trim_data = data.loc[(data['price_per_sqft']  <= upper_limit_normal) & (data['price_per_sqft'] >= lower_limit_normal)]\n",
    "print('old data:', len(data))\n",
    "print('new data:', len(trim_data))\n",
    "print('outliers:', len(data)-len(trim_data))"
   ]
  },
  {
   "cell_type": "code",
   "execution_count": 87,
   "id": "93f751da",
   "metadata": {},
   "outputs": [
    {
     "data": {
      "text/plain": [
       "<Axes: >"
      ]
     },
     "execution_count": 87,
     "metadata": {},
     "output_type": "execute_result"
    },
    {
     "data": {
      "image/png": "[encoded data removed]",
      "text/plain": [
       "<Figure size 640x480 with 1 Axes>"
      ]
     },
     "metadata": {},
     "output_type": "display_data"
    }
   ],
   "source": [
    "sns.boxplot(trim_data['price_per_sqft'])"
   ]
  }
 ],
 "metadata": {
  "kernelspec": {
   "display_name": "Python 3 (ipykernel)",
   "language": "python",
   "name": "python3"
  },
  "language_info": {
   "codemirror_mode": {
    "name": "ipython",
    "version": 3
   },
   "file_extension": ".py",
   "mimetype": "text/x-python",
   "name": "python",
   "nbconvert_exporter": "python",
   "pygments_lexer": "ipython3",
   "version": "3.11.5"
  }
 },
 "nbformat": 4,
 "nbformat_minor": 5
}
